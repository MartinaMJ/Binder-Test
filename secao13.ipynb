{
 "cells": [
  {
   "cell_type": "markdown",
   "id": "cd028979-7486-420f-8444-815a4c27c27c",
   "metadata": {},
   "source": [
    "# Bases and Dimension\n",
    "\n",
    "Given a space $\\mathcal{E}$, it may be quite useful to be able to\n",
    "address (or to access) each and every element of $\\mathcal{E}$ using a\n",
    "set of unequivocal coordinates. Latitudes and longitudes provide such\n",
    "coordinates for geographical positioning on earth’s surface. For a more\n",
    "generic space, we may need to define a basis for the space in more\n",
    "appropriate terms.\n",
    "\n",
    "Given a space $\\mathcal{E}$ defined over a field $\\mathbb{F}$, a set of\n",
    "elements $\\{\\vbf_i\\}\\subseteq\\mathcal{E}$, $i=1,\\ 2,\\ \\ldots,\\ r$, is a\n",
    "*basis* of $\\mathcal{E}$ if the elements $\\vbf_i\\in\\{\\vbf_i\\}$ are\n",
    "linearly independent and any element $\\ubf\\in\\mathcal{E}$ can be written\n",
    "as a linear combination of $\\vbf_i$. Another way to put it is to say\n",
    "that the elements $\\vbf_i$, $i=1,\\ 2,\\ \\ldots,\\ r$ span the whole space\n",
    "$\\mathcal{E}$ and no other set of elements with less than $r$ elements\n",
    "spans the space $\\mathcal{E}$.\n",
    "\n",
    "As many different coordinate systems may prove equally accurate for\n",
    "determining position on the earth’s surface, many different bases may\n",
    "span a given vector space.\n",
    "\n",
    "::: example <span id=\"ex:canonic_basis\" label=\"ex:canonic_basis\"></span>\n",
    "Let us investigate the vector space $\\mathbb{R}^2$. As previously\n",
    "defined, this space can be described as the set\n",
    "$$\\mathbb{R}^2=\\{\\vbf;\\ \\vbf=\\left[v_1\\ v_2\\right]^\\transp,\\ v_1,\\ v_2 \\in \\mathbb{R}\\}$$\n",
    "We may verify that any vector $\\vbf\\in\\mathbb{R}^2$ can be written as a\n",
    "linear combination of vectors $\\ebf_1$ and $\\ebf_2$ defined below:\n",
    "$$\\ebf_1=\\left[\\begin{matrix}1\\\\0\\end{matrix}\\right],\\quad\n",
    "\\ebf_2=\\left[\\begin{matrix}0\\\\1\\end{matrix}\\right].$$ It is also\n",
    "straightforward to verify that $\\ebf_1,\\ \\ebf_2\\in\\mathbb{R}^2$.\n",
    "Therefore the set of vectors $\\{\\ebf_1,\\ \\ebf_2\\}$ span $\\mathbb{R}^2$.\n",
    "This particular set of vectors forms the canonic basis of\n",
    "$\\mathbb{R}^2$, although it may not be so easy, at least at this moment,\n",
    "to ascertain that no set with less than two elements span the whole\n",
    "space $\\mathbb{R}^2$. Many other sets with two vectors can form a basis\n",
    "of $\\mathbb{R}^2$. We will see further in the chapter how to change from\n",
    "one basis to another.\n",
    "\n",
    "::: example <span id=\"ex:V_space_line\" label=\"ex:V_space_line\"></span>\n",
    "Another interesting example we may construct is for a vector space\n",
    "$\\mathcal{V}\\subset\\mathbb{R}^2$ defined as\n",
    "$$\\mathcal{V}=\\{\\vbf;\\ \\vbf=\\alpha \\left[1 \\ 2\\right]^\\transp,\\ \\alpha\\in\\mathbb{R}\\}$$\n",
    "In this example, $\\mathcal{V}$ is a line, as seen in\n",
    "Figure <a href=\"#fig:V_space_line\" data-reference-type=\"ref\"\n",
    "data-reference=\"fig:V_space_line\">2</a>. Although we can describe any\n",
    "point along this line using any basis of $\\mathbb{R}^2$ (after all,\n",
    "$\\mathcal{V}\\subset\\mathbb{R}^2$), we can certainly be more economical.\n",
    "In fact, any vector $\\vbf=\\alpha\\left[1 \\ 2\\right]^\\transp$ is itself a\n",
    "basis of $\\mathcal{V}$.\n",
    "\n",
    "The definition of basis implies that for every vector space there is a\n",
    "set of vectors forming its basis. We have seen above that the number of\n",
    "vectors in the basis is two for $\\mathbb{R}^2$ and one for $\\mathcal{V}$\n",
    "in Example <a href=\"#ex:V_space_line\" data-reference-type=\"ref\"\n",
    "data-reference=\"ex:V_space_line\">[ex:V_space_line]</a>. This number\n",
    "denotes the dimension of these vector spaces.\n",
    "\n",
    "Given a vector space $\\mathcal{U}$, we define the *dimension* of the\n",
    "vector space as the total number of vectors in its basis. A given vector\n",
    "space may have infinite dimension, or it may have dimension equal to\n",
    "zero."
   ]
  },
  {
   "cell_type": "markdown",
   "id": "43395c4e",
   "metadata": {},
   "source": [
    "[Teste](https://mybinder.org/v2/gh/MartinaMJ/Binder-Test/HEAD?filepath=TesteLink.ipynb)"
   ]
  }
 ],
 "metadata": {
  "kernelspec": {
   "display_name": "Python 3.9.7 64-bit",
   "language": "python",
   "name": "python3"
  },
  "language_info": {
   "name": "python",
   "version": "3.9.7"
  },
  "vscode": {
   "interpreter": {
    "hash": "3e24519b0ba229a6f9a71f39c1cb5a8bdc9138e2d11e58c1de9e81a631b04fde"
   }
  }
 },
 "nbformat": 4,
 "nbformat_minor": 5
}
